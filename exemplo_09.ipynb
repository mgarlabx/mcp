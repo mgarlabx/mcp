{
 "cells": [
  {
   "cell_type": "code",
   "execution_count": null,
   "id": "c6040407",
   "metadata": {},
   "outputs": [],
   "source": [
    "import asyncio\n",
    "from fastmcp import Client"
   ]
  },
  {
   "cell_type": "code",
   "execution_count": null,
   "id": "5455bd81",
   "metadata": {},
   "outputs": [],
   "source": [
    "client = Client(\"http://localhost:8000/mcp\")"
   ]
  },
  {
   "cell_type": "code",
   "execution_count": null,
   "id": "58564779",
   "metadata": {},
   "outputs": [],
   "source": [
    "async def main():\n",
    "    async with client:\n",
    "        result = await client.call_tool(\"cotacao\", {\"ticker\": \"NVDA\"})\n",
    "        print(result)\n",
    "    "
   ]
  },
  {
   "cell_type": "code",
   "execution_count": null,
   "id": "da228709",
   "metadata": {},
   "outputs": [],
   "source": [
    "await main()"
   ]
  }
 ],
 "metadata": {
  "kernelspec": {
   "display_name": "Python 3",
   "language": "python",
   "name": "python3"
  },
  "language_info": {
   "codemirror_mode": {
    "name": "ipython",
    "version": 3
   },
   "file_extension": ".py",
   "mimetype": "text/x-python",
   "name": "python",
   "nbconvert_exporter": "python",
   "pygments_lexer": "ipython3",
   "version": "3.11.11"
  }
 },
 "nbformat": 4,
 "nbformat_minor": 5
}
